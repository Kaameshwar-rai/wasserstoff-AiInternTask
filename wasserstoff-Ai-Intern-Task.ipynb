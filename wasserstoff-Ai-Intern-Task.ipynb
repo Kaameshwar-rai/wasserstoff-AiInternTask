{
 "cells": [
  {
   "cell_type": "markdown",
   "metadata": {
    "id": "Pf_YIrN19H92"
   },
   "source": [
    "   #                                        Wasserstoff Ai InternTask"
   ]
  },
  {
   "cell_type": "code",
   "execution_count": 2,
   "metadata": {
    "id": "qsh5_WvE9H93"
   },
   "outputs": [
    {
     "name": "stdout",
     "output_type": "stream",
     "text": [
      "Submitted by Kaameshwar Rai 👍\n"
     ]
    }
   ],
   "source": [
    "print(\"Submitted by Kaameshwar Rai 👍\")"
   ]
  },
  {
   "cell_type": "markdown",
   "metadata": {},
   "source": [
    "Kaameshwar Rai\n",
    "(Task 1: AI Personal Email Assistant)"
   ]
  },
  {
   "cell_type": "markdown",
   "metadata": {
    "id": "mYT8BH_Y9H9_"
   },
   "source": [
    "## Problem Statement :-"
   ]
  },
  {
   "cell_type": "markdown",
   "metadata": {},
   "source": [
    "simulating an AI that scans emails, finds meetings/events, and auto-creates calendar invites and Slack alerts based on the text."
   ]
  },
  {
   "cell_type": "markdown",
   "metadata": {},
   "source": [
    "### Approach :-"
   ]
  },
  {
   "cell_type": "markdown",
   "metadata": {},
   "source": [
    "To solve the problem of creating a personal email assistant, I started by simulating a few sample emails and focused on detecting meeting-related information from them. My goal was to identify any upcoming events by extracting date and time details from the email content.\n",
    "\n",
    "I used regular expressions (regex) to find patterns like dates (e.g., \"6th April\" or \"tomorrow\") and times (e.g., \"3:00 PM\", \"11am\") within the email body. Once both were found, I used Python's datetime module to convert them into a proper datetime format.\n",
    "\n",
    "After extracting this information, I simulated the behavior of a calendar assistant by:\n",
    "\n",
    "  *  creating a mock calendar event\n",
    "\n",
    "  *  Sending a mock Slack notification\n",
    "  \n",
    "This simple setup demonstrates how an AI assistant can automatically understand and act on email content to schedule meetings or reminders.\n",
    " "
   ]
  },
  {
   "cell_type": "code",
   "execution_count": 13,
   "metadata": {
    "id": "_0buB1M4o9Mi"
   },
   "outputs": [
    {
     "name": "stdout",
     "output_type": "stream",
     "text": [
      "\n",
      "📧 Processing email: Meeting Invitation\n",
      "❌ No valid date/time found. Skipping...\n",
      "\n",
      "\n",
      "📧 Processing email: Reminder\n",
      "❌ No valid date/time found. Skipping...\n",
      "\n",
      "\n",
      "📧 Processing email: Team Outing\n",
      "❌ No valid date/time found. Skipping...\n",
      "\n"
     ]
    }
   ],
   "source": [
    "import re  # For regex operations\n",
    "from datetime import datetime, timedelta  # For date and time handling\n",
    "\n",
    "# --- Sample Emails (mocked) ---\n",
    "emails = [\n",
    "    {\n",
    "        \"subject\": \"Meeting Invitation\",\n",
    "        \"body\": \"Hi, please join the project sync on 6th April at 3:00 PM. Thanks!\"\n",
    "    },\n",
    "    {\n",
    "        \"subject\": \"Reminder\",\n",
    "        \"body\": \"Don't forget our catch-up tomorrow at 11am.\"\n",
    "    },\n",
    "    {\n",
    "        \"subject\": \"Team Outing\",\n",
    "        \"body\": \"Hey team, let's plan an outing this weekend!\"\n",
    "    }\n",
    "]\n",
    "\n",
    "# --- Function to extract datetime info from text ---\n",
    "def extract_datetime(text):\n",
    "    # Look for date formats like \"6th April\" or \"tomorrow\"\n",
    "    date_match = re.search(r'(\\d{1,2}(st|nd|rd|th)?\\s+\\w+)|tomorrow', text, re.IGNORECASE)\n",
    "    time_match = re.search(r'\\d{1,2}(:\\d{2})?\\s*(AM|PM|am|pm)?', text)\n",
    "\n",
    "    if not date_match or not time_match:\n",
    "        return None  # If date or time is missing\n",
    "\n",
    "    # Handle \"tomorrow\"\n",
    "    if \"tomorrow\" in date_match.group().lower():\n",
    "        date = datetime.now() + timedelta(days=1)\n",
    "    else:\n",
    "        try:\n",
    "            date = datetime.strptime(date_match.group(), \"%d %B\")\n",
    "            date = date.replace(year=datetime.now().year)\n",
    "        except:\n",
    "            return None\n",
    "\n",
    "    # Parse time\n",
    "    try:\n",
    "        time_str = time_match.group()\n",
    "        time_obj = datetime.strptime(time_str.strip(), \"%I:%M %p\") if \":\" in time_str else datetime.strptime(time_str.strip(), \"%I %p\")\n",
    "        full_datetime = datetime.combine(date.date(), time_obj.time())\n",
    "        return full_datetime\n",
    "    except:\n",
    "        return None\n",
    "\n",
    "# --- Simulated Calendar Event Creation ---\n",
    "def create_calendar_event(subject, datetime_obj):\n",
    "    print(f\"📅 Event Created: {subject} on {datetime_obj.strftime('%Y-%m-%d %H:%M')}\\n\")\n",
    "\n",
    "# --- Simulated Slack Notification ---\n",
    "def send_slack_notification(message):\n",
    "    print(f\"🔔 Slack Notification: {message}\")\n",
    "\n",
    "# --- Main Process ---\n",
    "for email in emails:\n",
    "    print(f\"\\n📧 Processing email: {email['subject']}\")\n",
    "    event_time = extract_datetime(email['body'])\n",
    "    if event_time:\n",
    "        create_calendar_event(email['subject'], event_time)\n",
    "        send_slack_notification(f\"Event '{email['subject']}' scheduled for {event_time.strftime('%Y-%m-%d %H:%M')}\")\n",
    "    else:\n",
    "        print(\"❌ No valid date/time found. Skipping...\\n\")\n"
   ]
  },
  {
   "cell_type": "code",
   "execution_count": 1,
   "metadata": {
    "id": "BTYWorof9H-A"
   },
   "outputs": [
    {
     "name": "stdout",
     "output_type": "stream",
     "text": [
      "📩 Wasserstoff Internship Task 1 completed. Thank you!\n"
     ]
    }
   ],
   "source": [
    "print(\"📩 Wasserstoff Internship Task 1 completed. Thank you!\")"
   ]
  }
 ],
 "metadata": {
  "colab": {
   "collapsed_sections": [],
   "name": "ITP_MID_EXAM_SET_11_EXAM_PAPER.ipynb",
   "provenance": []
  },
  "kernelspec": {
   "display_name": "Python 3 (ipykernel)",
   "language": "python",
   "name": "python3"
  },
  "language_info": {
   "codemirror_mode": {
    "name": "ipython",
    "version": 3
   },
   "file_extension": ".py",
   "mimetype": "text/x-python",
   "name": "python",
   "nbconvert_exporter": "python",
   "pygments_lexer": "ipython3",
   "version": "3.10.9"
  }
 },
 "nbformat": 4,
 "nbformat_minor": 1
}
